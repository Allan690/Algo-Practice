{
 "metadata": {
  "language_info": {
   "codemirror_mode": {
    "name": "ipython",
    "version": 3
   },
   "file_extension": ".py",
   "mimetype": "text/x-python",
   "name": "python",
   "nbconvert_exporter": "python",
   "pygments_lexer": "ipython3",
   "version": "3.8.6-final"
  },
  "orig_nbformat": 2,
  "kernelspec": {
   "name": "Python 3.8.6 64-bit ('venv')",
   "display_name": "Python 3.8.6 64-bit ('venv')",
   "metadata": {
    "interpreter": {
     "hash": "5c1426a8f25167c374d4a579bee1c20af4c33f6bf323300ea924d0b18dbd58b5"
    }
   }
  }
 },
 "nbformat": 4,
 "nbformat_minor": 2,
 "cells": [
  {
   "cell_type": "code",
   "execution_count": 1,
   "metadata": {},
   "outputs": [],
   "source": [
    "\"\"\"\n",
    "1.1 Is Unique: Implement an algorithm to determine if a string has all unique characters. What if you\n",
    "cannot use additional data structures?\n",
    "\"\"\"\n",
    "from collections import Counter\n",
    "def find_unique_characters(my_str):\n",
    "    count = Counter(my_str)\n",
    "    for k, v in count.items():\n",
    "        if v > 1:\n",
    "            return False\n",
    "    return True\n"
   ]
  },
  {
   "cell_type": "code",
   "execution_count": 18,
   "metadata": {},
   "outputs": [],
   "source": [
    "\"\"\"\n",
    "Check Permutation: Given two strings, write a method to decide if one is a permutation of the\n",
    "other.\n",
    "\n",
    "this means that all the characters contained in string b are a part of string a - check for both\n",
    "\"\"\"\n",
    "def check_string_permutation(a, b):\n",
    "    res = list(set(a))\n",
    "    res2 = list(set(b))\n",
    "    if len(res) == len(res2):\n",
    "        for ch in res:\n",
    "            if ch not in res2:\n",
    "                return -1\n",
    "        return 'b is a permutation of a and a is a perumtation of b'\n",
    "    elif len(res) > len(res2):\n",
    "        for c in res2:\n",
    "            if c in res:\n",
    "                continue\n",
    "            elif c not in res:\n",
    "                return -1\n",
    "        return 'b is a permutation of a'\n",
    "    elif len(res) < len(res2):\n",
    "        for c in res:\n",
    "            if c in res2:\n",
    "                continue\n",
    "            elif c not in res2:\n",
    "                return -1\n",
    "        return 'a is a permutation of b'"
   ]
  },
  {
   "cell_type": "code",
   "execution_count": 23,
   "metadata": {},
   "outputs": [
    {
     "output_type": "execute_result",
     "data": {
      "text/plain": [
       "'b is a permutation of a'"
      ]
     },
     "metadata": {},
     "execution_count": 23
    }
   ],
   "source": [
    "check_string_permutation('lan', 'an')"
   ]
  },
  {
   "cell_type": "code",
   "execution_count": 30,
   "metadata": {},
   "outputs": [],
   "source": [
    "\"\"\"\n",
    "Write a method to replace all spaces in a string with '%20'. You may assume that the string\n",
    "has sufficient space at the end to hold the additional characters, and that you are given the \"true\"\n",
    "length of the string. (Note: If implementing in Java, please use a character array so that you can\n",
    "perform this operation in place.)\n",
    "\"\"\"\n",
    "def replace_string(string):\n",
    "    new_str = string.replace(' ', '%20')\n",
    "    return new_str\n",
    "def replace_str_2(string):\n",
    "    char_list = []\n",
    "    for c in string:\n",
    "        if c == \" \":\n",
    "            char_list.append('%20')\n",
    "        else:\n",
    "            char_list.append(c)\n",
    "    return ''.join(char_list)\n"
   ]
  },
  {
   "cell_type": "code",
   "execution_count": 53,
   "metadata": {},
   "outputs": [],
   "source": [
    "\"\"\"\n",
    "Given a string, write a function to check if it is a permutation of a palindrome.\n",
    "A palindrome is a word or phrase that is the same forwards and backwards. A permutation\n",
    "is a rearrangement of letters. The palindrome does not need to be limited to just dictionary words.\n",
    "\n",
    "Algorithm:\n",
    "  - if the length of the input is even, the character count should be even for each char\n",
    "  - if the length of the input is odd, the character count should be even for each char except one which should have a char count of 1\n",
    "\"\"\"\n",
    "from collections import Counter\n",
    "def palindrome_checker(string):\n",
    "    new_str = string.replace(' ', '')\n",
    "    count = Counter(new_str.lower())\n",
    "    string_length = len(new_str)\n",
    "    ones_vals = []\n",
    "    if string_length % 2 == 0:\n",
    "        for k, v in count.items():\n",
    "            if v % 2 != 0:\n",
    "                return False\n",
    "        return True\n",
    "    for k, v in count.items():\n",
    "        if v == 1 and k != ' ':\n",
    "                ones_vals.append(1) \n",
    "        if v > 2:\n",
    "            return False\n",
    "    return sum(ones_vals) <= 1\n",
    "\n"
   ]
  },
  {
   "cell_type": "code",
   "execution_count": 67,
   "metadata": {},
   "outputs": [],
   "source": [
    "\"\"\"\n",
    "There are three types of edits that can be performed on strings: insert a character,\n",
    "remove a character, or replace a character. Given two strings, write a function to check if they are\n",
    "one edit (or zero edits) away.\n",
    "\n",
    "EXAMPLE\n",
    "pale, ple -> true\n",
    "pales, pale -> true\n",
    "pale, bale -> true\n",
    "pale, bake -> false\n",
    "\"\"\"\n",
    "def one_away(string1, string2):\n",
    "    edits_list = []\n",
    "    if len(string1) == len(string2):\n",
    "        for i, v in enumerate(string2):\n",
    "            if string1[i] != v:\n",
    "                edits_list.append(1)\n",
    "        return sum(edits_list) <= 1\n",
    "    elif len(string1) > len(string2):\n",
    "        diff = len(string1) - len(string2)\n",
    "        edits_list = []\n",
    "        if diff > 1:\n",
    "            for i, v in enumerate(string2):\n",
    "                if string2[i] != string1[i]:\n",
    "                    edits_list.append(1)\n",
    "        return (sum(edits_list) + diff) <= 1\n",
    "    else:\n",
    "        diff = len(string2) - len(string1)\n",
    "        edits_list = []\n",
    "        if diff > 1:\n",
    "            for i, v in enumerate(string1):\n",
    "                if string1[i] != string2[i]:\n",
    "                    edits_list.append(i)\n",
    "        return (sum(edits_list) + diff) <= 1\n",
    "\n"
   ]
  },
  {
   "cell_type": "code",
   "execution_count": 98,
   "metadata": {},
   "outputs": [],
   "source": [
    "\"\"\"\n",
    "Implement a method to perform basic string compression using the counts\n",
    "of repeated characters. For example, the string aabcccccaaa would become a2blc5a3, If the\n",
    "\"compressed\" string would not become smaller than the original string, your method should return\n",
    "the original string. You can assume the string has only uppercase and lowercase letters (a - z).\n",
    "\"\"\"\n",
    "from itertools import groupby\n",
    "def string_compression(my_string):\n",
    "    grouped = [ (k, len(list(g))) for k, g in groupby(my_string)]\n",
    "    my_string_arr = []\n",
    "    for v in grouped:\n",
    "        my_string_arr.extend([v[0], str(v[1])])\n",
    "    final_string = ''.join(my_string_arr)\n",
    "    if len(final_string) < len(my_string):\n",
    "        return final_string\n",
    "    return my_string\n",
    "\n"
   ]
  },
  {
   "cell_type": "code",
   "execution_count": 6,
   "metadata": {},
   "outputs": [],
   "source": [
    "\n",
    "\n",
    "\"\"\"\n",
    "matrix transpose\n",
    "\"\"\"\n",
    "def transpose(matrix):\n",
    "    res = [[matrix[j][i] for j in range(len(matrix))] for i in range(len(matrix[0]))]\n",
    "    print(res)\n"
   ]
  },
  {
   "cell_type": "code",
   "execution_count": 12,
   "metadata": {},
   "outputs": [
    {
     "output_type": "stream",
     "name": "stdout",
     "text": [
      "[[1, 3, 5], [2, 4, 6]]\n"
     ]
    }
   ],
   "source": [
    "transpose([[1,2],[3,4],[5,6]] )"
   ]
  },
  {
   "cell_type": "code",
   "execution_count": 10,
   "metadata": {},
   "outputs": [],
   "source": []
  },
  {
   "cell_type": "code",
   "execution_count": 11,
   "metadata": {},
   "outputs": [
    {
     "output_type": "execute_result",
     "data": {
      "text/plain": [
       "[[1], [3], [5], [2], [4], [6]]"
      ]
     },
     "metadata": {},
     "execution_count": 11
    }
   ],
   "source": [
    "transpose_2([[1,2],[3,4],[5,6]])"
   ]
  },
  {
   "cell_type": "code",
   "execution_count": 15,
   "metadata": {},
   "outputs": [],
   "source": [
    "def transpose_with_zip(matrix):\n",
    "    r = zip(*matrix)\n",
    "    return list(r)\n"
   ]
  },
  {
   "cell_type": "code",
   "execution_count": 28,
   "metadata": {},
   "outputs": [],
   "source": [
    "\"\"\"\n",
    "Given an image represented by an NxN matrix, where each pixel in the image is 4\n",
    "bytes, write a method to rotate the image by 90 degrees. Can you do this in place?\n",
    "\"\"\"\n",
    "def matrix_rotation(matrix):\n",
    "    matrix_transpose = zip(*matrix)\n",
    "    nm = []\n",
    "    for l in matrix_transpose:\n",
    "        nm.append(list(reversed(l)))\n",
    "    return nm\n"
   ]
  },
  {
   "cell_type": "code",
   "execution_count": 29,
   "metadata": {},
   "outputs": [
    {
     "output_type": "execute_result",
     "data": {
      "text/plain": [
       "[[5, 3, 1], [6, 4, 2]]"
      ]
     },
     "metadata": {},
     "execution_count": 29
    }
   ],
   "source": [
    "matrix_rotation([[1,2],[3,4],[5,6]])"
   ]
  },
  {
   "cell_type": "code",
   "execution_count": 46,
   "metadata": {},
   "outputs": [],
   "source": [
    "\"\"\"\n",
    "In place matrix rotation\n",
    "\"\"\"\n",
    "def rotation(matrix):\n",
    "    # reverse matrix\n",
    "    matrix.reverse()\n",
    "    # transpose\n",
    "    for i in range(len(matrix)):\n",
    "        for j in range(i):\n",
    "            matrix[i][j], matrix[j][i] = matrix[j][i], matrix[i][j]\n",
    "    return matrix\n"
   ]
  },
  {
   "cell_type": "code",
   "execution_count": 126,
   "metadata": {},
   "outputs": [],
   "source": [
    "\"\"\"\n",
    "Zero Matrix: Write an algorithm such that if an element in an MxN matrix is 0, its entire row and\n",
    "column are set to 0.\"\"\"\n",
    "def zero_matrix(m):\n",
    "    zero_index = []\n",
    "    for i in range(len(m)):\n",
    "        set_list = False\n",
    "        for ind, val in enumerate(m[i]):\n",
    "            if val == 0:\n",
    "                # set entire list to zero\n",
    "                set_list = True\n",
    "                zero_index.append(ind)\n",
    "        for ind, val in enumerate(m[i]):\n",
    "            if set_list:\n",
    "                m[i][ind] = 0\n",
    "    for v in range(len(m)):\n",
    "        for ind, val in enumerate(m[v]):\n",
    "            if zero_index:\n",
    "                for k in zero_index:\n",
    "                    m[v][k] = 0\n",
    "    return m\n"
   ]
  },
  {
   "cell_type": "code",
   "execution_count": 129,
   "metadata": {},
   "outputs": [],
   "source": [
    "\"\"\"\n",
    "String Rotation; Assume you have a method i s S u b s t r i n g which checks if one word is a substring\n",
    "of another. Given two strings, si and s2, write code to check if s2 is a rotation of si using only one\n",
    "call to i s S u b s t r i n g [e.g., \"water b o t t l e \" is a rotation of ' e r b o t t l e w a t \" )\n",
    "\"\"\"\n",
    "def is_substring(s1,s2):\n",
    "    return (len(s1) == len(s2) and s2 in (s1+s1))\n",
    "    \n",
    "\n",
    "\n"
   ]
  },
  {
   "cell_type": "code",
   "execution_count": 131,
   "metadata": {},
   "outputs": [
    {
     "output_type": "execute_result",
     "data": {
      "text/plain": [
       "False"
      ]
     },
     "metadata": {},
     "execution_count": 131
    }
   ],
   "source": []
  },
  {
   "cell_type": "code",
   "execution_count": null,
   "metadata": {},
   "outputs": [],
   "source": []
  }
 ]
}